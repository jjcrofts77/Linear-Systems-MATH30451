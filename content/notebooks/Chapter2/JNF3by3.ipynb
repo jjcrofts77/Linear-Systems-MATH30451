{
  "nbformat": 4,
  "nbformat_minor": 0,
  "metadata": {
    "colab": {
      "name": "JNF3by3.ipynb",
      "provenance": [],
      "authorship_tag": "ABX9TyN19iXYqdmdM1gH2DfzGQ07",
      "include_colab_link": true
    },
    "kernelspec": {
      "name": "python3",
      "display_name": "Python 3"
    },
    "language_info": {
      "name": "python"
    }
  },
  "cells": [
    {
      "cell_type": "markdown",
      "metadata": {
        "id": "view-in-github",
        "colab_type": "text"
      },
      "source": [
        "<a href=\"https://colab.research.google.com/github/jjcrofts77/Linear-Systems-MATH30451/blob/main/content/notebooks/Chapter2/JNF3by3.ipynb\" target=\"_parent\"><img src=\"https://colab.research.google.com/assets/colab-badge.svg\" alt=\"Open In Colab\"/></a>"
      ]
    },
    {
      "cell_type": "markdown",
      "metadata": {
        "id": "d2wMXYC5CTer"
      },
      "source": [
        "# 2.3 JNF: The Case of the $3 \\times 3$ Matrix "
      ]
    }
  ]
}