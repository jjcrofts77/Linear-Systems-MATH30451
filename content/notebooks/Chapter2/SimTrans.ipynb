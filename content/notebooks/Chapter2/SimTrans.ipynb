{
  "nbformat": 4,
  "nbformat_minor": 0,
  "metadata": {
    "colab": {
      "name": "SimTrans.ipynb",
      "provenance": [],
      "authorship_tag": "ABX9TyMG8u9eZscRG3G1hlfRxkCn",
      "include_colab_link": true
    },
    "kernelspec": {
      "name": "python3",
      "display_name": "Python 3"
    },
    "language_info": {
      "name": "python"
    }
  },
  "cells": [
    {
      "cell_type": "markdown",
      "metadata": {
        "id": "view-in-github",
        "colab_type": "text"
      },
      "source": [
        "<a href=\"https://colab.research.google.com/github/jjcrofts77/Linear-Systems-MATH30451/blob/main/content/notebooks/Chapter2/SimTrans.ipynb\" target=\"_parent\"><img src=\"https://colab.research.google.com/assets/colab-badge.svg\" alt=\"Open In Colab\"/></a>"
      ]
    },
    {
      "cell_type": "markdown",
      "metadata": {
        "id": "dkoqkKZl5oih"
      },
      "source": [
        "# 2.1 Similarity Transformations and the Jordan Canonical Form\n",
        "\n",
        "Recall that if $A$ is a real symmetric matrix, and if we choose $P$ to be the matrix whose columns are the orthonormal eigenvectors of $A$, then the matrix $D=P^{-1}AP$ is diagonal, with non-zero elements given by the eigenvalues of $A$. However, if the matrix $A$ is not symmetric then diagonalisation might not be possible. For such systems, a structure, which is close to diagonal form, known as the Jordan canonical form, can be obtained.\n",
        "Jordan Normal Form\n",
        "\n",
        "An $n\\times n$ matrix is diagonalisable if and only if the sum of the dimensions of the eigenspaces is $n$. Or, equivalently, if and only if $A$ has $n$ linearly independent eigenvectors. As we saw in DETM not all matrices are diagonalisable.\n",
        "\n",
        "For example, consider the following matrix"
      ]
    }
  ]
}