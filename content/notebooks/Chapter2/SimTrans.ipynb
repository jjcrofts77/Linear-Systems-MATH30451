{
 "cells": [
  {
   "cell_type": "markdown",
   "metadata": {
    "colab_type": "text",
    "id": "view-in-github"
   },
   "source": [
    "<a href=\"https://colab.research.google.com/github/jjcrofts77/Advanced-Calculus-MATH20471/blob/main/content/notebooks/Part1/Chapter1/IBVP.ipynb\" target=\"_parent\"><img src=\"https://colab.research.google.com/assets/colab-badge.svg\" alt=\"Open In Colab\"/></a>"
   ]
  },
  {
   "cell_type": "markdown",
   "metadata": {
    "id": "wRE64k8Vrgri"
   },
   "source": [
    "# 2.1 Similarity Transformations and the Jordan Canonical Form\n",
    "\n",
    "Recall that if $A$ is a real symmetric matrix, and if we choose $P$ to be the matrix whose columns are the orthonormal eigenvectors of $A$, then the matrix $D=P^{-1}AP$ is diagonal, with non-zero elements given by the eigenvalues of $A$. However, if the matrix $A$ is not symmetric then diagonalisation might not be possible. For such systems, a structure, which is close to diagonal form, known as the Jordan canonical form, can be obtained.\n",
    "\n",
    "## Jordan Normal Form\n",
    "\n",
    "An $n\\times n$ matrix is diagonalisable if and only if the sum of the dimensions of the eigenspaces is $n$. Or, equivalently, if and only if $A$ has $n$ linearly independent eigenvectors. As we saw in DETM not all matrices are diagonalisable. \n",
    "\n",
    "For example, consider the following matrix\n",
    "\n",
    "$$\n",
    "A =\n",
    "\\left[\\begin{array}{rrrr}5&4&2&1\\\\0&1&-1&-1\\\\-1&-1&3&0\\\\1&1&-1&2\\end{array}\n",
    "\\right].\n",
    "$$"
   ]
  },
  {
   "cell_type": "code",
   "execution_count": null,
   "metadata": {},
   "outputs": [],
   "source": []
  }
 ],
 "metadata": {
  "colab": {
   "include_colab_link": true,
   "name": "IBVP.ipynb",
   "provenance": []
  },
  "kernelspec": {
   "display_name": "Python 3 (ipykernel)",
   "language": "python",
   "name": "python3"
  },
  "language_info": {
   "codemirror_mode": {
    "name": "ipython",
    "version": 3
   },
   "file_extension": ".py",
   "mimetype": "text/x-python",
   "name": "python",
   "nbconvert_exporter": "python",
   "pygments_lexer": "ipython3",
   "version": "3.9.7"
  }
 },
 "nbformat": 4,
 "nbformat_minor": 1
}
