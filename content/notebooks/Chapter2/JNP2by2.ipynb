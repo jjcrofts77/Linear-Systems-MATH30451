{
  "nbformat": 4,
  "nbformat_minor": 0,
  "metadata": {
    "colab": {
      "name": "JNP2by2.ipynb",
      "provenance": [],
      "authorship_tag": "ABX9TyPwslhL510piDVVGNcpAWCf",
      "include_colab_link": true
    },
    "kernelspec": {
      "name": "python3",
      "display_name": "Python 3"
    },
    "language_info": {
      "name": "python"
    }
  },
  "cells": [
    {
      "cell_type": "markdown",
      "metadata": {
        "id": "view-in-github",
        "colab_type": "text"
      },
      "source": [
        "<a href=\"https://colab.research.google.com/github/jjcrofts77/Linear-Systems-MATH30451/blob/main/content/notebooks/Chapter2/JNP2by2.ipynb\" target=\"_parent\"><img src=\"https://colab.research.google.com/assets/colab-badge.svg\" alt=\"Open In Colab\"/></a>"
      ]
    },
    {
      "cell_type": "markdown",
      "metadata": {
        "id": "7rUZ2aoCo6Fg"
      },
      "source": [
        "## 2.3 JNF: The Case of the $2 \\times 2$ Matrix "
      ]
    }
  ]
}