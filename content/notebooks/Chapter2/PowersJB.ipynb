{
  "nbformat": 4,
  "nbformat_minor": 0,
  "metadata": {
    "colab": {
      "name": "PowersJB.ipynb",
      "provenance": [],
      "authorship_tag": "ABX9TyOeYhyUhVHMFnpamomadXXS",
      "include_colab_link": true
    },
    "kernelspec": {
      "name": "python3",
      "display_name": "Python 3"
    },
    "language_info": {
      "name": "python"
    }
  },
  "cells": [
    {
      "cell_type": "markdown",
      "metadata": {
        "id": "view-in-github",
        "colab_type": "text"
      },
      "source": [
        "<a href=\"https://colab.research.google.com/github/jjcrofts77/Linear-Systems-MATH30451/blob/main/content/notebooks/Chapter2/PowersJB.ipynb\" target=\"_parent\"><img src=\"https://colab.research.google.com/assets/colab-badge.svg\" alt=\"Open In Colab\"/></a>"
      ]
    },
    {
      "cell_type": "markdown",
      "metadata": {
        "id": "lhNfLOsmuYir"
      },
      "source": [
        "# Powers of a Jordon Block\n",
        "\n",
        "Consider a $m\\times m$ Jordan block of the form\n",
        "\n",
        "$$\n",
        "J_m(\\lambda) &=\n",
        "\\left(\\begin{array}{cccccc}\n",
        "\\lambda&1&0&\\cdots&0&0\\\\0&\\lambda&1&\\cdots&0&0\\\\\\vdots&\\vdots&\\vdots&&\\vdots&\n",
        "\\vdots\\\\0&0&0&\\cdots&\\lambda&1\\\\0&0&0&\\cdots&0&\\lambda\\end{array}\\right), \\\\\n",
        "&= \\lambda I_m+K,\n",
        "$$\n",
        "\n",
        "where\n",
        "\n",
        "$$\n",
        " K =\n",
        "\\left(\\begin{array}{cccccc}\n",
        "0&1&0&\\cdots&0&0\\\\0&0&1&\\cdots&0&0\\\\\\vdots&\\vdots&\\vdots&&\\vdots&\\vdots\\\\0&0&0&\n",
        "\\cdots&0&1\\\\0&0&0&\\cdots&0&0\\end{array}\\right) = \n",
        "\\left(\\begin{array}{cc}0&I_{m-1}\\\\0&0\\end{array}\\right).\n",
        "$$\n",
        "\n",
        "For such a block\n",
        "\n",
        "$$\n",
        " J_m^r(\\lambda) &= (\\lambda I_m+K)^r,\\\\\n",
        "       &= \\lambda^rI_m+r\\lambda^{r-1}K +\n",
        "\\frac{r(r-1)}{2!}\\lambda^{r-2}K^2+\\cdots K^r,\\\\\n",
        "       &= \\sum_{s=0}^r\\binom{r}{s}\\lambda^{r-s}K^s.\n",
        "$$\n",
        "\n",
        "Now, \n",
        "\n",
        "$$\n",
        "K^r =\\left(\\begin{array}{cc}0&I_{m-r}\\\\0&0\\end{array}\\right) \\text{ provided }\n",
        "m>r,\n",
        "$$\n",
        "\n",
        "and $K^r=0$ if $r\\geq m$. Therefore\n",
        "\n",
        "$$\n",
        " J_m^r(\\lambda) &= \\sum_{s=0}^{m-1} \\binom{r}{s} \\lambda^{r-s}K^s,\\\\\n",
        "       &=\n",
        "\\lambda^rI_m+\\binom{r}{1}\\lambda^{r-1}K+\\binom{r}{2}\\lambda^{r-2}K^2+\\cdots\n",
        "+\\binom{r}{m-1}\\lambda^{r-m+1}K^{m-1},\\\\\\nonumber\n",
        "       &= \\lambda^r\\left(\\begin{array}{cccccc}\n",
        "1&0&0&\\cdots&0&0\\\\0&1&0&\\cdots&0&0\\\\\\vdots&\\vdots&\\vdots&&\\vdots&\\vdots\\\\0&0&0&\n",
        "\\cdots&1&0\\\\0&0&0&\\cdots&0&1\\end{array}\\right)+\\binom{r}{1}\\lambda^{r-1}\n",
        "\\left(\\begin{array}{cccccc}\n",
        "0&1&0&\\cdots&0&0\\\\0&0&1&\\cdots&0&0\\\\\\vdots&\\vdots&\\vdots&&\\vdots&\\vdots\\\\0&0&0&\n",
        "\\cdots&0&1\\\\0&0&0&\\cdots&0&0\\end{array}\\right)+\\cdots\\\\\n",
        "&+\\binom{r}{m-1}\\lambda^{r-m+1}\\left(\\begin{array}{cccccc}\n",
        "0&0&0&\\cdots&0&1\\\\0&0&0&\\cdots&0&0\\\\\\vdots&\\vdots&\\vdots&&\\vdots&\\vdots\\\\0&0&0&\n",
        "\\cdots&0&0\\\\0&0&0&\\cdots&0&0\\end{array}\\right),\\\\\n",
        "&=\n",
        "\\left(\\begin{array}{cccccc}\\lambda^r & \\binom{r}{1}\\lambda^{r-1}&\\binom{r}{2}\n",
        "\\lambda^{r-2}&\\ldots&\\binom{r}{m-2}\\lambda^{r-m+2}&\\binom{r}{m-1}\\lambda^{r-m+1}\n",
        "\\\\\n",
        "0&\\lambda^r&\\binom{r}{1}\\lambda^{r-1}&\\ldots&\\binom{r}{m-3}\\lambda^{r-m+3}\n",
        "&\\binom{r}{m-2}\\lambda^{r-m+2}\\\\\n",
        "\\vdots&\\vdots&\\vdots&&\\vdots&\\vdots\\\\\n",
        "0&0&0&\\ldots&\\lambda^r&\\binom{r}{1}\\lambda^{r-1}\\\\\n",
        "0&0&0&\\ldots&0&\\lambda^r\n",
        "\\end{array}\\right).\n",
        "$$"
      ]
    }
  ]
}