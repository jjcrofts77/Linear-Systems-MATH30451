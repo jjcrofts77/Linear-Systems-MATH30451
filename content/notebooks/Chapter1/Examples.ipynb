{
 "cells": [
  {
   "cell_type": "markdown",
   "metadata": {
    "colab_type": "text",
    "id": "view-in-github"
   },
   "source": [
    "<a href=\"https://colab.research.google.com/github/jjcrofts77/Advanced-Calculus-MATH20471/blob/main/content/notebooks/Part1/Chapter1/IBVP.ipynb\" target=\"_parent\"><img src=\"https://colab.research.google.com/assets/colab-badge.svg\" alt=\"Open In Colab\"/></a>"
   ]
  },
  {
   "cell_type": "markdown",
   "metadata": {
    "id": "wRE64k8Vrgri"
   },
   "source": [
    "# 1.1 Real-world Examples of Linear Systems\n",
    "\n",
    "The aim of this course is to study systems of linear differential or difference equations, such as arise in the analysis of many situations in the sciences.\n",
    "\n",
    "In this section we shall introduce these concepts via a number of examples.\n",
    "\n",
    "<br>\n",
    "\n",
    "**Example 1.1.1** Assuming that damping effects are negligible, then for a vibrating system as shown the displacements $x_1, x_2$ of the masses $m_1, m_2$ from the equilibrium position are given by the system of equations\n",
    "\n",
    "$$\n",
    " m_1\\frac{d^2x_1}{dt} &= -k_1x_1-k_3(x_1-x_2),\\\\\n",
    " m_2\\frac{d^2x_2}{dt} &= -k_2x_2-k_3(x_2-x_1).\n",
    "$$\n"
   ]
  },
  {
   "cell_type": "code",
   "execution_count": null,
   "metadata": {},
   "outputs": [],
   "source": []
  }
 ],
 "metadata": {
  "colab": {
   "include_colab_link": true,
   "name": "IBVP.ipynb",
   "provenance": []
  },
  "kernelspec": {
   "display_name": "Python 3 (ipykernel)",
   "language": "python",
   "name": "python3"
  },
  "language_info": {
   "codemirror_mode": {
    "name": "ipython",
    "version": 3
   },
   "file_extension": ".py",
   "mimetype": "text/x-python",
   "name": "python",
   "nbconvert_exporter": "python",
   "pygments_lexer": "ipython3",
   "version": "3.9.7"
  }
 },
 "nbformat": 4,
 "nbformat_minor": 1
}
