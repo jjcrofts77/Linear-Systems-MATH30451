{
  "nbformat": 4,
  "nbformat_minor": 0,
  "metadata": {
    "colab": {
      "name": "Examples.ipynb",
      "provenance": [],
      "authorship_tag": "ABX9TyMAuJ1fHCGA8sBWxpMIze72",
      "include_colab_link": true
    },
    "kernelspec": {
      "name": "python3",
      "display_name": "Python 3"
    },
    "language_info": {
      "name": "python"
    }
  },
  "cells": [
    {
      "cell_type": "markdown",
      "metadata": {
        "id": "view-in-github",
        "colab_type": "text"
      },
      "source": [
        "<a href=\"https://colab.research.google.com/github/jjcrofts77/Linear-Systems-MATH30451/blob/main/content/notebooks/Chapter1/Examples.ipynb\" target=\"_parent\"><img src=\"https://colab.research.google.com/assets/colab-badge.svg\" alt=\"Open In Colab\"/></a>"
      ]
    },
    {
      "cell_type": "code",
      "metadata": {
        "id": "1skwNCeJ5CL2"
      },
      "source": [
        ""
      ],
      "execution_count": null,
      "outputs": []
    },
    {
      "cell_type": "markdown",
      "metadata": {
        "id": "fM1ojRq85EXA"
      },
      "source": [
        "# 1.1 Real-world Examples of Linear Systems\n",
        "\n",
        "The aim of this course is to study systems of linear differential or difference equations, such as arise in the analysis of many situations in the sciences.\n",
        "\n",
        "In this section we shall introduce these concepts via a number of examples.\n",
        "\n",
        "\n",
        "**Example 1.1.1** Assuming that damping effects are negligible, then for a vibrating system as shown the displacements $x_1, x_2$ of the masses $m_1, m_2$ from the equilibrium position are given by the system of equations\n",
        "\n",
        "$$ m_1\\frac{d^2x_1}{dt} &= -k_1x_1-k_3(x_1-x_2),\\\\ m_2\\frac{d^2x_2}{dt} &= -k_2x_2-k_3(x_2-x_1). $$\n"
      ]
    }
  ]
}