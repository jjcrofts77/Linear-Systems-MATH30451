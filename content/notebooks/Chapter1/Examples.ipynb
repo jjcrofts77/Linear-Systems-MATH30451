{
  "nbformat": 4,
  "nbformat_minor": 0,
  "metadata": {
    "colab": {
      "name": "Examples.ipynb",
      "provenance": [],
      "authorship_tag": "ABX9TyPpsH7xA30hHpJ7xHBz6pBq",
      "include_colab_link": true
    },
    "kernelspec": {
      "name": "python3",
      "display_name": "Python 3"
    },
    "language_info": {
      "name": "python"
    }
  },
  "cells": [
    {
      "cell_type": "markdown",
      "metadata": {
        "id": "view-in-github",
        "colab_type": "text"
      },
      "source": [
        "<a href=\"https://colab.research.google.com/github/jjcrofts77/Linear-Systems-MATH30451/blob/main/content/notebooks/Chapter1/Examples.ipynb\" target=\"_parent\"><img src=\"https://colab.research.google.com/assets/colab-badge.svg\" alt=\"Open In Colab\"/></a>"
      ]
    },
    {
      "cell_type": "code",
      "metadata": {
        "id": "1skwNCeJ5CL2"
      },
      "source": [
        ""
      ],
      "execution_count": null,
      "outputs": []
    },
    {
      "cell_type": "markdown",
      "metadata": {
        "id": "fM1ojRq85EXA"
      },
      "source": [
        "# 1.1 Real-world Examples of Linear Systems\n",
        "\n",
        "The aim of this course is to study systems of linear differential or difference equations, such as arise in the analysis of many situations in the sciences.\n",
        "\n",
        "In this section we shall introduce these concepts via a number of examples.\n",
        "\n",
        "<br>\n",
        "\n",
        "**Example 1.1.1** Assuming that damping effects are negligible, then for a vibrating system as shown the displacements $x_1, x_2$ of the masses $m_1, m_2$ from the equilibrium position are given by the system of equations\n",
        "\n",
        "$$ m_1\\frac{d^2x_1}{dt} &= -k_1x_1-k_3(x_1-x_2),\\\\ m_2\\frac{d^2x_2}{dt} &= -k_2x_2-k_3(x_2-x_1). $$\n",
        "\n",
        "That is\n",
        "\n",
        "$$\n",
        " \\frac{d^2}{dt^2}\\left[\\begin{array}{c}x_1\\\\x_2\\end{array}\\right] = \n",
        " \\left[\\begin{array}{cc}-\\frac{k_1+k_3}{m_1} & \\frac{k_3}{m_1}\\\\\n",
        "\\frac{k_3}{m_2}&\n",
        "-\\frac{k_2+k_3}{m_2}\\end{array}\\right]\\left[\\begin{array}{c}x_1\\\\x_2\\end{array}\n",
        "\\right],\n",
        "$$\n",
        "\n",
        "or\n",
        "\n",
        "$$\n",
        " \\frac{d^2\\mathbf{x}}{dt^2} = A\\mathbf{x},\n",
        "$$\n",
        "\n",
        "where \n",
        "\n",
        "$$\n",
        "\\mathbf{x} = \\bmc x_1\\\\ x_2\\emc \\text{ and } A =\n",
        "\\left[\\begin{array}{cc}-\\frac{k_1+k_3}{m_1} & \\frac{k_3}{m_1}\\\\\n",
        "\\frac{k_3}{m_2}& -\\frac{k_2+k_3}{m_2}\\end{array}\\right].\n",
        "$$\n",
        "\n",
        "Alternatively, the above system of second order differential equations can be replaced by one containing first order ones by writing $\\displaystyle\\frac{dx_1}{dt}=v_1$ and $\\displaystyle\\frac{dx_2}{dt}=v_2$, so that\n",
        "\n",
        "$$\n",
        " m_1\\frac{dv_1}{dt} &= -k_1x_1-k_3(x_1-x_2),\\\\\n",
        " m_2\\frac{dv_2}{dt} &= -k_2x_2-k_3(x_2-x_1).\n",
        "$$\n",
        "\n",
        "Then\n",
        "\n",
        "$$\n",
        "\\frac{d}{dt}\\left[\\begin{array}{c}x_1\\\\x_2\\\\v_1\\\\v_2\\end{array}\\right] = \n",
        "\\left[\\begin{array}{cccc}0&0&1&0\\\\0&0&0&1\\\\-\\frac{k_1+k_3}{m_1}&\\frac{k_3}{m_1}\n",
        "&0&0\\\\\\frac{k_3}{m_2}&-\\frac{k_2+k_3}{m_2}&0&0\\end{array}\\right]\n",
        "\\bmc x_1\\\\x_2\\\\v_1\\\\v_2\\emc.\n",
        "$$\n",
        "\n",
        "```{Note} \n",
        "It is common practice to replace a single $n$th order\n",
        "differential equation of the form\n",
        "$$\n",
        "\\frac{d^nx}{dt^n}+a_1\\frac{d^{n-1}x}{dt^{n-1}}+a_2\\frac{d^{n-2}x}{dt^{n-2}}\n",
        "+\\cdots +a_{n-1}\\frac{dx}{dt}+a_nx = 0,\n",
        "$$\n",
        "\n",
        "by a system of first order differential equations obtained by writing\n",
        "\n",
        "$$\n",
        "\\displaystyle x_1=x, x_2=\\frac{dx}{dt}, x_3=\\frac{d^2x}{dt^2},\\ldots,\n",
        "x_{n}=\\frac{d^{n-1}x}{dt^{n-1}}, \n",
        "$$\n",
        "\n",
        "so that \n",
        "\n",
        "$$\n",
        " \\frac{dx_{n}}{dt}+a_1x_{n}+a_2x_{n-1}+\\cdots+a_{n-1}x_2\n",
        "+a_nx_1 = 0.\n",
        "$$\n",
        "\n",
        "Then\n",
        "\n",
        "$$\n",
        "\\frac{d}{dt}\\left[\\begin{array}{c}x_1\\\\x_2\\\\x_3\\\\\\vdots\\\\x_{n-1}\\\\x_{n}\n",
        "\\end{array}\\right]\n",
        "=\\left[\\begin{array}{cccccc}\n",
        "0&1&0&\\ldots&0&0\\\\0&0&1&\\ldots&0&0\\\\0&0&0&\\ldots&0&0\\\\\n",
        "\\vdots&\\vdots&\\vdots&&\\vdots&\\vdots\\\\0&0&0&\\ldots&0&1\\\\-a_n&-a_{n-1}&-a_{n-2}\n",
        "&\\ldots&-a_2&-a_1\\end{array}\\right]\n",
        "\\left[\\begin{array}{c}x_1\\\\x_2\\\\x_3\\\\\\vdots\\\\x_{n-1}\\\\x_{n}\\end{array}\\right].\n",
        "$$\n",
        "```\n",
        "\n",
        "<br>\n",
        "\n",
        "**Example 1.1.2** Consider..."
      ]
    }
  ]
}