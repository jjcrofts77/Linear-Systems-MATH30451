{
  "nbformat": 4,
  "nbformat_minor": 0,
  "metadata": {
    "colab": {
      "name": "TransformRev.ipynb",
      "provenance": [],
      "authorship_tag": "ABX9TyP2YKxdFyQR37HET/Lxp4dd",
      "include_colab_link": true
    },
    "kernelspec": {
      "name": "python3",
      "display_name": "Python 3"
    },
    "language_info": {
      "name": "python"
    }
  },
  "cells": [
    {
      "cell_type": "markdown",
      "metadata": {
        "id": "view-in-github",
        "colab_type": "text"
      },
      "source": [
        "<a href=\"https://colab.research.google.com/github/jjcrofts77/Linear-Systems-MATH30451/blob/main/content/notebooks/Chapter1/TransformRev.ipynb\" target=\"_parent\"><img src=\"https://colab.research.google.com/assets/colab-badge.svg\" alt=\"Open In Colab\"/></a>"
      ]
    },
    {
      "cell_type": "markdown",
      "metadata": {
        "id": "2_PPaZpaBaYa"
      },
      "source": [
        "# 1.3 Laplace and Z-Transforms Revision\n",
        "\n",
        "# Laplace Transforms\n",
        "\n",
        "Recall\n",
        "\n",
        ">**Definition 1.3.1** The *Laplace transform* of the function, $f(t)$, is given by\n",
        ">\n",
        "$$\n",
        "\\mathcal{L}[f] = \\tilde{f}(t) = \\int_0^\\infty e^{-st}f(t)\\mathrm{d}t.\n",
        "$$ (LT)\n",
        "\n",
        "<br>\n",
        "\n",
        "**Example 1.3.1** Here we use {eq}`LT` directly to determine the Laplace transforms of some simple functions.\n",
        "<br><br>\n",
        "1. For $\\displaystyle f(t)=1, \\mathcal{L}[1] = \\int_0^\\infty e^{-st}\\mathrm{d}t = \\left[-\\frac{1}{s}e^{-st}\\right]_0^\\infty = \\frac{1}{s}$.\n",
        "<br><br>\n",
        "2. For $\\displaystyle f(t)=t, \\mathcal{L}[t] = \\int_0^\\infty te^{-st}\\mathrm{d}t = \\left[-\\frac{1}{s}e^{-st}\\right]_0^\\infty+\\int_0^\\infty e^{-st}\\mathrm{d}t = \\frac{1}{s^2}$.\n",
        "<br><br>\n",
        "3. For $\\displaystyle f(t)=\\frac{\\mathrm{d}y}{\\mathrm{d}t}, \\mathcal{L}\\left[\\frac{\\mathrm{d}y}{\\mathrm{d}t}\\right] = \\int_0^\\infty e^{-st}\\frac{\\mathrm{d}y}{\\mathrm{d}t}\\mathrm{d}t = \\left[e^{-st}y\\right]_0^\\infty+\\int_0^\\infty se^{-st}y\\mathrm{d}t = \\frac{1}{s} = -y(0)+s\\tilde{y}(s)$.\n",
        "<br><br>\n",
        "4. For $\\displaystyle f(t)=e^{at}, a$ constant,\n",
        "<br>\n",
        "$$\n",
        "\\mathcal{L}[e^{at}] = \\int_0^\\infty e^{-st}e^{at}\\mathrm{d}t = \\int_0^\\infty e^{-(s-a)t}\\mathrm{d}t = \\left[-\\frac{1}{s-a}e^{-(s-a)t}\\right]_0^\\infty = \\frac{1}{s-a}, ~s>a.\n",
        "$$\n",
        "\n",
        "\n",
        "<br>\n",
        "\n",
        "A table of commonly encountered Laplace transforms is given below.\n",
        "\n",
        "<br>\n",
        "\n",
        "Recall that the Laplace transform is linear, *i.e.* given two functions, $f(t)$ and $g(t)$ say, and constants $a, b\\in\\mathbb{R}$, we have that \n",
        "\n",
        "$$\\mathcal{L}[af+bg] = a\\mathcal{L}[f] + b\\mathcal{L}[g]$$\n",
        "\n",
        "**Example 1.3.2** Using the result $\\displaystyle\\mathcal{L}[e^{at}] = 1/(s-a)$ and the fact that the Laplace transform is linear, determine $\\displaystyle \\mathcal{L}[\\cos(at)]$ and $\\displaystyle \\mathcal{L}[\\cos(at)]$.\n",
        "\n",
        "**Solution**\n",
        "```{toggle}\n",
        "Using DeMoivre's theorem we know that\n",
        "\n",
        "$$\n",
        " e^{iat} = \\cos(at)+i\\sin(at)\n",
        "$$\n",
        "\n",
        "so that ...\n",
        "```\n",
        "\n",
        "<br>\n",
        "\n",
        "**Example 1.3.3**\n",
        "\n",
        "<br>\n",
        "\n",
        "**Example 1.3.4**\n",
        "\n",
        "<br>\n",
        "\n",
        "# Z-Transforms"
      ]
    }
  ]
}