{
  "nbformat": 4,
  "nbformat_minor": 0,
  "metadata": {
    "colab": {
      "name": "DiffEqnRev.ipynb",
      "provenance": [],
      "authorship_tag": "ABX9TyN4zArdhNQuh0Po4UzBRPgB",
      "include_colab_link": true
    },
    "kernelspec": {
      "name": "python3",
      "display_name": "Python 3"
    },
    "language_info": {
      "name": "python"
    }
  },
  "cells": [
    {
      "cell_type": "markdown",
      "metadata": {
        "id": "view-in-github",
        "colab_type": "text"
      },
      "source": [
        "<a href=\"https://colab.research.google.com/github/jjcrofts77/Linear-Systems-MATH30451/blob/main/content/notebooks/Chapter1/DiffEqnRev.ipynb\" target=\"_parent\"><img src=\"https://colab.research.google.com/assets/colab-badge.svg\" alt=\"Open In Colab\"/></a>"
      ]
    },
    {
      "cell_type": "markdown",
      "metadata": {
        "id": "lSXGElP-BKmj"
      },
      "source": [
        "# 1.2 Differential and Difference Equations Revision\n",
        "\n",
        "## Differential Equations\n",
        "\n",
        "### Separable ODEs\n",
        "\n",
        "We say that an ODE is separable if it can be written in the form\n",
        "\n",
        "$$\n",
        "\\frac{\\mathrm{d}x}{\\mathrm{d}t} = \\frac{f(t)}{g(x)}\n",
        "$$ (Separable)\n",
        "\n",
        "To solve such an equation we arrange and integrate as follows\n",
        "\n",
        "$$\n",
        " \\int g(x)\\mathrm{d}x = \\int f(t)\\mathrm{d}t.\n",
        "$$\n",
        "\n",
        "<br>\n",
        "\n",
        "**Example 1.2.1** Solve $\\displaystyle \\frac{\\mathrm{d}x}{\\mathrm{d}t} = -2xt$.\n",
        "\n",
        "'''{toggle} \n",
        "The right-hand side is clearly separable with $\\displaystyle f(t)=-2t$ and $\\displaystyle g(x)=1/x$ and so\n",
        "\n",
        "$$\n",
        "\\int x^{-1}\\mathrm{d}x = \\int (-2t)\\mathrm{d}t\n",
        "$$\n",
        "\n",
        "thus\n",
        "\n",
        "$$\n",
        "\\log{x} = -t^2 + c\n",
        "$$\n",
        "\n",
        "giving \n",
        "\n",
        "$$\n",
        "x(t) = e^{-t^2+c} = ke^{-t^2}.\n",
        "$$\n",
        "'''\n",
        "\n",
        "<br>\n",
        "\n",
        "**Example 1.2.2** Solve $\\displaystyle \\frac{\\mathrm{d}x}{\\mathrm{d}t} = \\frac{x}{y}$.\n",
        "\n",
        "\n",
        "\n",
        "\n",
        "## Difference Equations\n",
        "\n",
        "Here we recap how to solve a second order difference equation of the form\n",
        "\n",
        "````{margin}\n",
        "```{note}\n",
        "Higher order equations can be solved similarly.\n",
        "```\n",
        "````\n",
        "\n",
        "$$\n",
        " x_{k+2} = ax_{k+1} + bx_k +f_k \\quad\\text{given that} \\quad x_0 = c_1, x_1 = c_2.\n",
        "$$\n",
        "\n",
        "If $f_k=0~ \\forall k$ then the equation is *homogeneous*, otherwise it is *inhomogeneous*.\n",
        "\n",
        "<br>\n",
        "\n",
        "**Example 1.2.? (homogeneous)** Solve\n",
        "\n",
        "$$\n",
        " x_{n+2}\n",
        "$$\n",
        "\n",
        "<br><br>\n",
        "\n",
        "**Example 1.2.? (inhomogeneous)**"
      ]
    }
  ]
}