{
  "nbformat": 4,
  "nbformat_minor": 0,
  "metadata": {
    "colab": {
      "name": "NonHomoDiff.ipynb",
      "provenance": [],
      "include_colab_link": true
    },
    "kernelspec": {
      "name": "python3",
      "display_name": "Python 3"
    },
    "language_info": {
      "name": "python"
    }
  },
  "cells": [
    {
      "cell_type": "markdown",
      "metadata": {
        "id": "view-in-github",
        "colab_type": "text"
      },
      "source": [
        "<a href=\"https://colab.research.google.com/github/jjcrofts77/Linear-Systems-MATH30451/blob/main/content/notebooks/Chapter3/NonHomoDiff.ipynb\" target=\"_parent\"><img src=\"https://colab.research.google.com/assets/colab-badge.svg\" alt=\"Open In Colab\"/></a>"
      ]
    },
    {
      "cell_type": "markdown",
      "metadata": {
        "id": "UZdHJvgVIt07"
      },
      "source": [
        "# 3.4 Inhomogeneous Systems of Difference Equations\n",
        "\n",
        "We shall now turn our attention to systems of first order difference equations of the form\n",
        "\n",
        "$$\n",
        " \\mathbf{x}_{k+1} = A\\mathbf{x}_k+\\mathbf{f}_k\n",
        "$$ (nonhomodiff)\n",
        "\n",
        "for which $\\displaystyle\\mathbf{x}_0$ is given. The solution of such a system may be found inductively as follows \n",
        "\n",
        "$$\n",
        "\\text{For } t=0 \\quad \\mathbf{x}_1 &= A\\mathbf{x}_0+\\mathbf{f}_0,\\\\\n",
        "\\text{For } t=1 \\quad \\mathbf{x}_2 &=A\\mathbf{x}_1+\\mathbf{f}_1 = A(A\\mathbf{x}_0+\\mathbf{f}_0)+\\mathbf{f}_1,\\\\\n",
        "&=A^2\\mathbf{x}_0+A\\mathbf{f}_0+\\mathbf{f}_1,\\\\\n",
        "\\text{For } t=2 \\quad \\mathbf{x}_3 &= A\\mathbf{x}_2+\\mathbf{f}_2 = A(A^2\\mathbf{x}_0+A\\mathbf{f}_0+\\mathbf{f}_1)+\\mathbf{f}_2,\\\\\n",
        "&=A^3\\mathbf{x}_0+A^2\\mathbf{f}_0+A\\mathbf{f}_1+\\mathbf{f}_2,\\\\\n",
        "&~~\\vdots\\\\\n",
        "\\mathbf{x}_k &= A^k\\mathbf{x}_0 +A^{k-1}\\mathbf{f}_0+A^{k-2}\\mathbf{f}_{1}+\\cdots+\\mathbf{f}_{k-1},\\\\\n",
        "&=A^k\\mathbf{x}_0+\\sum_{r=0}^{k-1}{A^r\\mathbf{f}_{k-1-r}},\\\\\n",
        "&=A^k\\mathbf{x}_0+\\sum_{r=0}^{k-1}{A^{k-1-r}\\mathbf{f}_{r}}.\n",
        "$$\n",
        "\n",
        "\n"
      ]
    }
  ]
}