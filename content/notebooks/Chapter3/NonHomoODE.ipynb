{
  "nbformat": 4,
  "nbformat_minor": 0,
  "metadata": {
    "colab": {
      "name": "NonHomoODE.ipynb",
      "provenance": [],
      "include_colab_link": true
    },
    "kernelspec": {
      "name": "python3",
      "display_name": "Python 3"
    },
    "language_info": {
      "name": "python"
    }
  },
  "cells": [
    {
      "cell_type": "markdown",
      "metadata": {
        "id": "view-in-github",
        "colab_type": "text"
      },
      "source": [
        "<a href=\"https://colab.research.google.com/github/jjcrofts77/Linear-Systems-MATH30451/blob/main/content/notebooks/Chapter3/NonHomoODE.ipynb\" target=\"_parent\"><img src=\"https://colab.research.google.com/assets/colab-badge.svg\" alt=\"Open In Colab\"/></a>"
      ]
    },
    {
      "cell_type": "markdown",
      "metadata": {
        "id": "F0pirEV3I6UF"
      },
      "source": [
        "# 3.4 Inhomogeneous Systems of ODEs\n",
        "\n",
        "The aim of this section is to produce a standard result for the solution of a linear system of first order differential equations of the form\n",
        "\n",
        "$$\n",
        " \\frac{\\mathrm{d}\\mathbf{x}}{\\mathrm{d} t} = A\\mathbf{x}+\\mathbf{f}(t)\\quad :\\quad \\mathbf{x}(0)=\\mathbf{x}_0.\n",
        "$$ (nonhomo)\n",
        "\n",
        "Here $\\mathbf{x}$ and $\\mathbf{f}(t)$ are $n$-vectors and $A$ is an $n\\times n$ matrix.\n",
        "\n",
        "Of course, once this result has been obtained, it can be used to solve systems of higher order differential equations since, as we know, such a system can be reduced to one consisting of first order differential equations.\n",
        "\n",
        "Before considering the general case, it is illustrative to remind ourselves about the solution of a single differential equation of the form\n",
        "\n",
        "$$\n",
        " \\frac{\\mathrm{d} x}{\\mathrm{d} t} = ax + f(t) \\quad :\\quad x(0)=x_0.\n",
        "$$\n",
        "\n",
        "Rearranging this differential equation in the form\n",
        "\n",
        "$$\n",
        " \\frac{\\mathrm{d} x}{\\mathrm{d} t}-ax=f(t),\n",
        "$$\n",
        "\n",
        "and multiplying by the integrating factor $\\displaystyle e^{-at}$ gives\n",
        "\n",
        "$$\n",
        " \\frac{\\mathrm{d}}{\\mathrm{d} t}\\left(e^{-at}x\\right) = e^{-at}f(t). \n",
        "$$\n",
        "\n",
        "Then\n",
        "\n",
        "$$\n",
        " e^{-at}x = \\int_0^t{e^{-a\\tau}f(\\tau)\\mathrm{d}\\tau} + x_0.\n",
        "$$\n",
        "\n",
        "Here we have used the initial condition to determine the constant of integration.\n",
        "\n",
        "We then see that \n",
        "\n",
        "$$\n",
        " x(t) &= e^{at}\\left\\{x_0+\\int_0^t{e^{-a\\tau}f(\\tau)\\md\\tau}\\right\\},\\\\\n",
        "      &= e^{at}x_0 +\\int_0^t{e^{a(t-\\tau)}f(\\tau)\\md\\tau}.\n",
        "$$\n",
        "\n",
        "**Example 3.4.1** The differential equation \n",
        "\n",
        "$$\n",
        " \\frac{\\mathrm{d} x}{\\mathrm{d} t}=3x+e^{-2t}\\quad :\\quad x(0)=2\n",
        "$$\n",
        "\n",
        "has solution\n",
        "\n",
        "$$\n",
        "x(t) &= e^{3t}\\left\\{2+\\int_0^t{e^{-3\\tau}e^{-2\\tau}\\mathrm{d}\\tau}\\right\\},\\\\\n",
        "     &= e^{3t}\\left\\{2+\\int_0^t{e^{-5\\tau}\\mathrm{d}\\tau}\\right\\},\\\\\n",
        "     &= e^{3t}\\left\\{2+\\left[-\\frac{e^{-5\\tau}}{5}\\right]^t_0\\right\\} \n",
        "     = e^{3t}\\left\\{2+\\left(-\\frac{e^{-5t}}{5}+\\frac{1}{5}\\right)\\right\\},\\\\\n",
        "     &= 2e^{3t}-\\frac{e^{-2t}}{5}+\\frac{e^{3t}}{5} = \\frac{11}{5}e^{3t}-\\frac{e^{-2t}}{5}.\n",
        "$$\n",
        "\n",
        "Let us now turn our attention to the original system {eq}`nonhomo`. \n",
        "\n",
        "Taking Laplace transforms of this system gives\n"
      ]
    }
  ]
}