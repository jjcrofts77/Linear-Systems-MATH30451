{
  "nbformat": 4,
  "nbformat_minor": 0,
  "metadata": {
    "colab": {
      "name": "ControlObserve.ipynb",
      "provenance": [],
      "authorship_tag": "ABX9TyNQcxvh2mBqDW+zMjdDjEPh",
      "include_colab_link": true
    },
    "kernelspec": {
      "name": "python3",
      "display_name": "Python 3"
    },
    "language_info": {
      "name": "python"
    }
  },
  "cells": [
    {
      "cell_type": "markdown",
      "metadata": {
        "id": "view-in-github",
        "colab_type": "text"
      },
      "source": [
        "<a href=\"https://colab.research.google.com/github/jjcrofts77/Linear-Systems-MATH30451/blob/main/content/notebooks/Chapter4/ControlObserve.ipynb\" target=\"_parent\"><img src=\"https://colab.research.google.com/assets/colab-badge.svg\" alt=\"Open In Colab\"/></a>"
      ]
    },
    {
      "cell_type": "markdown",
      "metadata": {
        "id": "NCCNz5P0L2Z3"
      },
      "source": [
        "# 4.1 Controllability and Observability\n",
        "\n",
        "## Controllability\n",
        "\n",
        "Given $t_f$ and $\\displaystyle\\mathbf{x}_0, \\mathbf{x}_f$ which are column $n$-vectors, the system is said to be \\emph{controllable} on $\\displaystyle [0,t_f]$ if there is a control $\\displaystyle\\mathbf{u}(t)$ defined on $\\displaystyle[0,t_f]$ such that, if $\\displaystyle\\mathbf{x}(0)=\\mathbf{x}_0$, then \n",
        "$\\displaystyle\\mathbf{x}(t_f)=\\mathbf{x}_f$. In order that the behaviour of the system is relatively ``smooth'', we usually impose the condition that $\\displaystyle\\mathbf{u}(t)$ is piecewise continuous  $\\displaystyle[0, t_f]$ (*i.e.*, continuous except at a finite number of points).\n",
        "\n",
        "We shall shortly see that the controllability or otherwise of a system of the above form depends on the $\\displaystyle n\\times n$ matrix\n",
        "\n",
        "$$\n",
        " W(0,t_f) = \\int_0^{t_f}e^{A\\tau}BB^Te^{A^T\\tau}\\mathrm{d}\\tau.\n",
        "$$\n",
        "\n",
        "In fact, a system of the given form is completely controllable on $[0, t_f]$ if and only if the matrix $\\displaystyle W(0,t_f)$ is non-singular (i.e., $\\displaystyle W^{-1}(0,t_f)$  exists).\n",
        "\n",
        "Suppose first of all that $\\displaystyle W(0,t_f)$ is non-singular. Then, given $\\displaystyle t_f, \\mathbf{x}_0$ and $\\mathbf{x}_f$, we can form the control\n",
        "\n",
        "$$\n",
        " \\mathbf{u}(t) = B^Te^{A^T(t_f-t)}W^{-1}(0,t_f)\\left[\\mathbf{x}_f-e^{At_f}\\mathbf{x}_0\\right].\n",
        "$$\n",
        "\n",
        "Substituting this control into {eq}`consys` we see that\n",
        "\n",
        "$$\n",
        " \\mathbf{x}_f &= e^{At_f}\\mathbf{x}_0 + \\int_0^{t_f}e^{A\\tau}BB^Te^{A^T\\tau}W^{-1}(0,t_f)\\left[\\mathbf{x}_f-e^{At_f}\\mathbf{x}_0\\right]\\mathrm{d}\\tau,\\\\\n",
        " &= e^{At_f}\\mathbf{x}_0 + \\int_0^{t_f}e^{A\\tau}BB^Te^{A^T\\tau}\\mathrm{d}\\tau\\cdot W^{-1}(0,t_f)\\left[\\mathbf{x}_f-e^{At_f}\\mathbf{x}_0\\right],\\\\\n",
        " &=e^{At_f}\\mathbf{x}_0 + W(0,t_f)W^{-1}(0,t_f)\\left[\\mathbf{x}_f-e^{At_f}\\mathbf{x}_0\\right],\\\\\n",
        " &=e^{At_f}\\mathbf{x}_0+\\mathbf{x}_f-e^{At_f}\\mathbf{x}_0 = \\mathbf{x_f},\n",
        "$$\n",
        "\n",
        "*i.e.* the control $\\displaystyle\\mathbf{u}(t)$ takes the system from $\\displaystyle\\mathbf{x}(0)=\\mathbf{x}_0$ to $\\displaystyle\\mathbf{x}(t_f)=\\mathbf{x}_f$, as required. The system is, therefore, completely controllable on $[0, t_f]$.\n",
        "\n",
        "On the other hand, suppose that $\\displaystyle W(0,t_f)$ is singular, *i.e.* $\\displaystyle |W(0,t_f)|=0$. Then, there is a vector $\\displaystyle \\mathbf{x}_1\\neq 0$ such that\n",
        "\n",
        "$$\n",
        "\\mathbf{x}_1^TW(0,t_f)=0.\n",
        "$$\n",
        "\n",
        "Indeed, $\\displaystyle\\mathbf{x}_1^TW(0,t_f)\\mathbf{x}_1=0$, so that \n",
        "\n",
        "$$\n",
        "\\mathbf{x}_1^T\\int_0^{t_f}e^{A\\tau}BB^Te^{A^T\\tau}\\mathrm{d}\\tau\\mathbf{x}_1 &= \\int_0^{t_f}\\mathbf{x}_1^Te^{A\\tau}BB^Te^{A^T\\tau}\\mathbf{x}_1\\mathrm{d}\\tau,\\\\\n",
        "&=\\int_0^{t_f}(B^Te^{A^T\\tau}\\mathbf{x}_1)^T(B^Te^{A^T\\tau}\\mathbf{x}_1)\\mathrm{d}\\tau,\\\\\n",
        "&= \\int_0^{t_f}||B^Te^{A^T\\tau}\\mathbf{x}_1||^2\\mathrm{d}\\tau = 0.\n",
        "$$\n",
        "\n",
        "This is only possible if $\\displaystyle\\left(B^Te^{A^Tt}\\mathbf{x}_1\\right)^T=\\mathbf{x}^T_1e^{At}B=0$ on $\\displaystyle [0, t_f]$.\n",
        "\n",
        "Now, if the given system were completely controllable on $\\displaystyle [0, t_f]$, we should be able to find a control $\\displaystyle\\mathbf{u}(t)$ which would take it from $\\displaystyle\\mathbf{x}_0=0$ at $t=0$ to $\\displaystyle\\mathbf{x}=\\mathbf{x}_1$ at $t=t_f$, *i.e.* \n",
        "\n",
        "$$\n",
        "\\mathbf{x}_1=e^{At_f}\\cdot 0+\\int_0^{t_f}e^{A\\tau}B\\mathbf{u}(t_f-\\tau)\\mathrm{d}\\tau.\n",
        "$$\n",
        "\n",
        "Then\n",
        "\n",
        "$$\n",
        "\\mathbf{x}_1^T\\mathbf{x}_1 &=\\mathbf{x}_1^T\\int_0^{t_f}e^{A\\tau}B\\mathbf{u}(t_f-\\tau)d\\tau\\mathbf{x}_1,\\\\\n",
        " &= \\int_0^{t_f}\\mathbf{x}_1^Te^{A\\tau}B\\mathbf{u}(t_f-\\tau)\\mathbf{x}_1d\\tau = 0.\n",
        "$$\n",
        "\n",
        "This, of course is a contradiction since $\\displaystyle\\mathbf{x}_1\\neq 0$.\n",
        "\n",
        "This necessary and sufficient condition for the controllability of the system on $\\displaystyle [0, t_f]$ can be replaced by one which is easier to apply by the observation that $\\displaystyle W(0,t_f)$ is positive definite if and only if there is *no* non-zero column $n$-vector $\\displaystyle\\mathbf{x}_1$ such that \n",
        "\n",
        "$$\n",
        " \\mathbf{x}_1^Te^{At}B=0\n",
        "$$\n",
        "\n",
        "for all $\\displaystyle t\\in[0, t_f]$.\n",
        "\n",
        "<br>\n",
        "\n",
        "### Controlability of Discrete Systems\n",
        "\n",
        "## Observability\n",
        "\n",
        "## Stability"
      ]
    }
  ]
}