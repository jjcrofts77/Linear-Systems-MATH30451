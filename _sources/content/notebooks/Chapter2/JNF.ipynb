{
  "nbformat": 4,
  "nbformat_minor": 0,
  "metadata": {
    "colab": {
      "name": "JNF.ipynb",
      "provenance": [],
      "authorship_tag": "ABX9TyPWp/KYNHnwsTFkRoYEaUiZ",
      "include_colab_link": true
    },
    "kernelspec": {
      "name": "python3",
      "display_name": "Python 3"
    },
    "language_info": {
      "name": "python"
    }
  },
  "cells": [
    {
      "cell_type": "markdown",
      "metadata": {
        "id": "view-in-github",
        "colab_type": "text"
      },
      "source": [
        "<a href=\"https://colab.research.google.com/github/jjcrofts77/Linear-Systems-MATH30451/blob/main/content/notebooks/Chapter2/JNF.ipynb\" target=\"_parent\"><img src=\"https://colab.research.google.com/assets/colab-badge.svg\" alt=\"Open In Colab\"/></a>"
      ]
    },
    {
      "cell_type": "markdown",
      "metadata": {
        "id": "BRjyfSC6CGMK"
      },
      "source": [
        "# 2.2 Jordon Normal Form\n",
        "\n",
        "An $n\\times n$ matrix is diagonalisable if and only if the sum of the dimensions of the eigenspaces is $n$. Or, equivalently, if and only if $A$ has $n$ linearly independent eigenvectors. As we saw in DETM not all matrices are diagonalisable. For example, consider the following matrix\n",
        "\n",
        "$$\n",
        "A =\n",
        "\\left(\\begin{array}{rrrr}5&4&2&1\\\\0&1&-1&-1\\\\-1&-1&3&0\\\\1&1&-1&2\\end{array}\n",
        "\\right).\n",
        "$$\n",
        "\n",
        "Including multiplicity, the eigenvalues of $A$ are $\\lambda=1, 2, 4, 4$. The dimension of the kernel of $A-4I_4$ is $1$ (and not $2$). It follows that $A$ is not diagonalisable. However, there is an invertible matrix $P$ such that $A=PJP^{-1}$, where\n",
        "\n",
        "$$\n",
        "J =\n",
        "\\left(\\begin{array}{cccc}1&0&0&0\\\\0&2&0&0\\\\0&0&4&1\\\\0&0&0&4\\end{array}\\right).\n",
        "$$\n",
        "\n",
        "The matrix $J$ is almost diagonal. This is the *Jordan normal form* of $A$.\n",
        "\n",
        "In general, a square real matrix $\\displaystyle A\\in\\mathbb{R}^{n\\times n}$ is similar to a *block diagonal matrix*\n",
        "\n",
        "$$\n",
        " J = \\left(\\begin{array}{ccc}J_{n_1}(\\lambda_1)&&\\\\&\\ddots&\\\\&&J_{n_k}(\\lambda_k)\\end{array}\\right)\\in\\mathbb{R}^{n\\times n},\n",
        "$$\n",
        "\n",
        "where each block $\\displaystyle J_{n_i}(\\lambda_i)$ is a square matrix of the form\n",
        "\n",
        "$$\n",
        " J_{n_i}(\\lambda_i) =\n",
        "\\left(\\begin{array}{cccc}\n",
        "\\lambda_i&1&&\\\\&\\lambda_i&\\ddots&\\\\&&\\ddots&1\\\\&&&\\lambda_i\\end{array}\\right)\\in\\mathbb{R}^{n_i\\times n_i}.\n",
        "$$\n",
        "\n",
        "So there exists an invertible matrix $P$ such that $P^{-1}AP=J$ is such that the only non-zero entries of $J$ are on the diagonal and the super-diagonal. The matrix $J$ is called the Jordan normal form (or Jordan canonical form) of $A$, and each $\\displaystyle J_{n_i}(\\lambda_i)$ is termed a *Jordan block*. In the example above there are three Jordan  blocks:\n",
        "\n",
        "$$\n",
        " J_1(1) = 1,\\quad J_1(2)=2 \\quad \\& \\quad J_2(4) =\n",
        "\\left(\\begin{array}{cc}4&1\\\\0&4\\end{array}\\right).\n",
        "$$\n",
        "\n",
        "Note that even though the matrix $A$ is real, its Jordan form can still be\n",
        "non-real, however there exists a real invertible matrix $P$ such that\n",
        "$J=P^{-1}AP$ is a real block diagonal matrix with each block being a real \n",
        "Jordan block. A real Jordan block is itself a block matrix, consisting of \n",
        "$2\\times 2$ blocks as follows (for non-real eigenvalue $\\displaystyle\\lambda_i=a_i+ib_i$). \n",
        "\n",
        "The diagonal blocks are identical, of the form\n",
        "\n",
        "$$\n",
        " C_i = \\left(\\begin{array}{rr}a_i&b_i\\\\-b_i&a_i\\end{array}\\right),\n",
        "$$\n",
        "\n",
        "thus the full real Jordan block takes the form\n",
        "\n",
        "$$\n",
        " J_i =\n",
        "\\left(\\begin{array}{cccc}C_i&I&&\\\\&C_i&\\ddots&\\\\&&\\ddots&I\\\\&&&C_i\\end{array}\n",
        "\\right).\n",
        "$$\n",
        "\n",
        "Here, the super-diagonal blocks are $2\\times 2$ identity matrices.\n",
        "\n",
        "```{Note} \n",
        "For a real matrix the complex eigenvectors and generalised\n",
        "eigenvectors can always be chosen to form complex conjugate pairs, and that the matrix has the above form in this new basis.\n",
        "```"
      ]
    }
  ]
}