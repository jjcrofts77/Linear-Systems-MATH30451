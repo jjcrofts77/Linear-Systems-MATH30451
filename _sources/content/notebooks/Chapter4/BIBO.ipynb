{
  "nbformat": 4,
  "nbformat_minor": 0,
  "metadata": {
    "colab": {
      "name": "BIBO.ipynb",
      "provenance": [],
      "include_colab_link": true
    },
    "kernelspec": {
      "name": "python3",
      "display_name": "Python 3"
    },
    "language_info": {
      "name": "python"
    }
  },
  "cells": [
    {
      "cell_type": "markdown",
      "metadata": {
        "id": "view-in-github",
        "colab_type": "text"
      },
      "source": [
        "<a href=\"https://colab.research.google.com/github/jjcrofts77/Linear-Systems-MATH30451/blob/main/content/notebooks/Chapter4/BIBO.ipynb\" target=\"_parent\"><img src=\"https://colab.research.google.com/assets/colab-badge.svg\" alt=\"Open In Colab\"/></a>"
      ]
    },
    {
      "cell_type": "markdown",
      "metadata": {
        "id": "QjsUvzcXDT6d"
      },
      "source": [
        "# 4.3 BIBO Stability and Feedback\n",
        "\n",
        "Let us now turn our attention to controlled systems of the form\n",
        "\n",
        "$$\n",
        " \\frac{\\mathrm{d}\\mathbf{x}}{\\mathrm{d} t} = A\\mathbf{x}+B\\mathbf{u} \\qquad : \\mathbf{x}(0)=\\mathbf{x}_0.\n",
        "$$\n",
        "\n",
        "Such a system is said to be *stable for bounded inputs* if, given $\\mathbf{x}_0$\n",
        "and $L\\geq 0$ such that $\\displaystyle ||\\mathbf{u}(t)||<L$ for $t\\geq 0$ (*i.e.* the input is bounded), there is a value $M>0$ such that $\\displaystyle ||\\mathbf{x}(t)||<M$ for $t\\geq 0$.\n",
        "\n",
        "If we recall that the solution of a system of the above form is given by\n",
        "\n",
        "$$\n",
        " \\mathbf{x}(t) = e^{At}\\mathbf{x}_0+\\int_0^te^{A\\tau}B\\mathbf{u}(t-\\tau)\\mathrm{d}\\tau,\n",
        "$$\n",
        "\n",
        "we can make the following observations:\n",
        "\n",
        "\n",
        "1. if the corresponding free system $\\displaystyle\\frac{\\mathrm{d}\\mathbf{x}_h}{\\mathrm{d} t}=A\\mathbf{x}_h$ is asymptotically stable, the above system is stable for bounded inputs; \n",
        "\n",
        "2. if the corresponding free system is unstable, as is the above system.\n",
        "\n",
        "Suppose that we now take into account the observed vector, or output, of the system\n",
        "\n",
        "$$\n",
        " \\mathbf{y}=C\\mathbf{x}.\n",
        "$$\n",
        "\n",
        "Then, we can define the corresponding system as being bounded input-bounded output stable (B.I.B.O. stable) if $\\mathbf{x}(t)$ in the definition of bounded input stability can be replaced by $\\mathbf{y}(t)$. Since\n",
        "\n",
        "$$\n",
        " \\mathbf{y}(t) = C\\mathbf{x}(t) = Ce^{At}\\mathbf{x}_0+\\int_0^tCe^{A\\tau}B\\mathbf{u}(t-\\tau)\\mathrm{d}\\tau,\n",
        "$$\n",
        "\n",
        "it is easy to see that the overall system is B.I.B.O. stable if the corresponding free system is asymptotically stable.\n",
        "\n",
        "However, it does not necessarily follow that a system of the above form is not B.I.B.O. stable if the corresponding free system is not stable unless the given system is controllable and observable, in which case the two forms of stability are equivalent. \n",
        "\n",
        "<br>\n",
        "\n",
        "### The Tacoma Narrows Bridge\n",
        "\n",
        "On November 7, 1940, at approximately 11:00am, the first Tacoma Narrows suspension bridge collapsed due to wind-induced vibrations. Situated on the Tacoma Narrows in Puget Sound, near the city of Tacoma, Washington, the bridge\n",
        "had only been open for traffic a few months.\n",
        "\n",
        "It is an example of a structurally unstable system. The catastrophic failiure of the bridge can be seen in the video below."
      ]
    },
    {
      "cell_type": "code",
      "metadata": {
        "colab": {
          "base_uri": "https://localhost:8080/",
          "height": 337
        },
        "id": "gfUQpfwuixo7",
        "outputId": "0f15a771-1a5d-4b5b-995b-541538238295"
      },
      "source": [
        "from IPython.display import HTML\n",
        "HTML('<iframe width=\"560\" height=\"315\" src=\"https://www.youtube.com/embed/qbOjxPCfaFk\" title=\"YouTube video player\" frameborder=\"0\" allow=\"accelerometer; autoplay; clipboard-write; encrypted-media; gyroscope; picture-in-picture\" allowfullscreen></iframe>')\n"
      ],
      "execution_count": 10,
      "outputs": [
        {
          "output_type": "execute_result",
          "data": {
            "text/html": [
              "<iframe width=\"560\" height=\"315\" src=\"https://www.youtube.com/embed/qbOjxPCfaFk\" title=\"YouTube video player\" frameborder=\"0\" allow=\"accelerometer; autoplay; clipboard-write; encrypted-media; gyroscope; picture-in-picture\" allowfullscreen></iframe>"
            ],
            "text/plain": [
              "<IPython.core.display.HTML object>"
            ]
          },
          "metadata": {},
          "execution_count": 10
        }
      ]
    },
    {
      "cell_type": "markdown",
      "metadata": {
        "id": "2a_tQWrOi5Cw"
      },
      "source": [
        "## Stabilising via Feedback\n",
        "\n",
        "Now, when a system is not bounded input or B.I.B.O. stable (depending upon whether the output $\\mathbf{y}$ is included), it is sometimes possible to *stabilise* it by the application of *feedback* of the form\n",
        "\n",
        "$$\n",
        " \\mathbf{u} = K\\mathbf{x}+\\mathbf{v},\n",
        "$$\n",
        "\n",
        "where $K$ is an $p\\times n$ matrix and $v$ is a column $p$-vector representing some independent control effect on the system.\n",
        "\n",
        "Here we are forming a *closed-loop* system, in which the state has an effect on the control, rather than an *open-loop* one, where it does not. Then\n",
        "\n",
        "$$\n",
        " \\frac{\\mathrm{d}\\mathbf{x}}{\\mathrm{d} t} &= A\\mathbf{x}+B\\mathbf{u} = A\\mathbf{x}+B(K\\mathbf{x}+v),\\\\\n",
        " &=(A+BK)\\mathbf{x}+B\\mathbf{v}.\n",
        "$$\n",
        "\n",
        "The stability of the resulting closed-loop system can then be investigated by considering whether or not the free system\n",
        "\n",
        "$$\n",
        " \\frac{\\mathrm{d}\\mathbf{x}_h}{\\mathrm{d} t} = (A+BK)\\mathbf{x}_h,\n",
        "$$\n",
        "\n",
        "is asymptotically stable.\n",
        "\n",
        "<br>\n",
        "\n",
        "**Example 4.3.1** Let \n",
        "\n",
        "$$\n",
        "A=\\begin{pmatrix}1&0&4\\\\-1&-1&-2\\\\1&2&-1\\end{pmatrix} \\text{ and } B=\\begin{pmatrix}1\\\\0\\\\0\\end{pmatrix}.\n",
        "$$\n",
        "\n",
        "Here \n",
        "\n",
        "$$\n",
        "|A-\\lambda I_3|&=\\left|\\begin{matrix}1-\\lambda&0&4\\\\-1&-1-\\lambda&-2\\\\1&2&-1-\\lambda\\end{matrix}\\right|=\n",
        "(1-\\lambda)\\left|\\begin{matrix}-1-\\lambda&-2\\\\2&-1-\\lambda\\end{matrix}\\right|\n",
        "+4\\left|\\begin{matrix}-1&-1-\\lambda\\\\1&2\\end{matrix}\\right|,\\\\\n",
        "&=(1-\\lambda)(\\lambda^2+2\\lambda+5)+4(\\lambda-1) = (1-\\lambda)(\\lambda^2+2\\lambda+5-4),\\\\\n",
        "&=(1-\\lambda)(\\lambda^2+2\\lambda+1) = (1-\\lambda)(\\lambda+1)^2=0,\n",
        "$$\n",
        "\n",
        "*i.e.*, $\\lambda=1$ and $\\lambda=-1$ (repeated).\n",
        "\n",
        "The first of these eigenvalues shows that the open-loop system\n",
        "\n",
        "$$\n",
        " \\frac{\\mathrm{d}\\mathbf{x}}{\\mathrm{d} t} = A\\mathbf{x}+B\\mathbf{u},\n",
        "$$\n",
        "\n",
        "is not bounded input stable. Taking $\\displaystyle\\mathbf{u}=K\\mathbf{x}+\\mathbf{v}$, where $\\displaystyle K=\\begin{pmatrix} K_1&K_2&K_3\\end{pmatrix}$, gives\n",
        "\n",
        "$$\n",
        " A+BK = \\begin{pmatrix}1&0&4\\\\-1&-1&-2\\\\1&2&-1\\end{pmatrix}+\\begin{pmatrix}1\\\\0\\\\0\\end{pmatrix}\\begin{pmatrix} K_1&K_2&K_3\\end{pmatrix} = \n",
        " \\begin{pmatrix}1+K_1&K_2&4+K_3\\\\-1&-1&-2\\\\1&2&-1\\end{pmatrix}.\n",
        "$$\n",
        "\n",
        "Suppose that, in an effort to simplify things, we take $K_2=0$ and $K_3=-4$. Then eigenvalues of $A+BK$ are given by\n",
        "\n",
        "$$\n",
        " |A+BK-\\lambda I_3| = \n",
        " \\left|\\begin{matrix}1+K_1-\\lambda&0&0\\\\-1&-1-\\lambda&-2\\\\1&2&-1-\\lambda\\end{matrix}\\right|               \n",
        " = (1+K_1-\\lambda)(\\lambda^2+2\\lambda+5),\n",
        "$$\n",
        "\n",
        "which equals zero if $\\displaystyle \\lambda=1+K_1$ or $-1\\pm 2i$ [we knew that the latter two eigenvalues would give no problem because of the form of the form of the quadratic $\\displaystyle \\lambda^2+2\\lambda+5$].\n",
        "\n",
        "Clearly, if $K_1<-1$, the free system is asymptotically stable and the controlled system is bounded input stable, *i.e.* the application of feedback of the form \n",
        "\n",
        "$$\n",
        " u = K_1x_1-4x_3+v,\n",
        "$$\n",
        "\n",
        "where $K_1<-1$, yields a closed loop system which is stable. There are, unfortunately, some situations in which a system cannot be stabilised in this way.\n",
        "\n",
        "<br>\n",
        "\n",
        "**Example 4.3.2** If \n",
        "\n",
        "$$\n",
        "A=\\begin{pmatrix}-3&2\\\\-4&3\\end{pmatrix} \\text{ and } B=\\begin{pmatrix}1\\\\1\\end{pmatrix},\n",
        "$$\n",
        "\n",
        "the eigenvalues of $A$ are given by\n",
        "\n",
        "$$\n",
        " |A-\\lambda I_2| = \\left|\\begin{matrix}-3-\\lambda&2\\\\-4&3-\\lambda\\end{matrix}\\right| = \\lambda^2-1=0,\n",
        "$$\n",
        "\n",
        "*i.e.*, $\\displaystyle\\lambda=\\pm1$. The eigenvalue $1$ shows that the corresponding system is not bounded input stable. Taking $\\displaystyle K=\\begin{pmatrix} K_1&K_2\\end{pmatrix}$, we see that\n",
        "\n",
        "$$\n",
        " A+BK = \\begin{pmatrix}-3&2\\\\-4&3\\end{pmatrix}+\\begin{pmatrix}1\\\\1\\end{pmatrix}\\begin{pmatrix} K_1&K_2\\end{pmatrix}=\\begin{pmatrix}-3+K_1&2+K_2\\\\-4+K_1&3+K_2\\end{pmatrix}.\n",
        "$$\n",
        "\n",
        "Then\n",
        "\n",
        "$$\n",
        " |A+BK-\\lambda I_2| = \\left|\\begin{matrix}-3+K_1-\\lambda&2+K_2\\\\-4+K_1&3+K_2-\\lambda\\end{matrix}\\right|=\n",
        " \\left|\\begin{matrix}1-\\lambda&\\lambda-1\\\\-4+K_1&3+K_2-\\lambda\\end{matrix}\\right|,\n",
        "$$\n",
        "\n",
        "which shows that the eigenvalue $1$ persists and the resulting closed-loop system cannot be made stable.\n",
        "\n",
        "This problem occurs because the mode which is responsible for this (corresponding to $\\lambda=1$) is also the unstable mode. If the system had been controllable, it would have been possible to stabilise it."
      ]
    }
  ]
}